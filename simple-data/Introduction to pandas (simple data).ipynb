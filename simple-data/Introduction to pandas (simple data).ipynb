{
 "cells": [
  {
   "cell_type": "markdown",
   "id": "23781ea0",
   "metadata": {},
   "source": [
    "# Introduction to data analysis with pandas\n",
    "\n",
    "NICAR 2022, Jonathan Soma / js4571@columbia.edu / [@dangerscarf](https://twitter.com/dangerscarf)\n",
    "\n",
    "With a very simple, very incorrect, very boring dataset called `countries.csv`."
   ]
  },
  {
   "cell_type": "code",
   "execution_count": null,
   "id": "5ebdb661",
   "metadata": {},
   "outputs": [],
   "source": []
  }
 ],
 "metadata": {
  "kernelspec": {
   "display_name": "Python 3 (ipykernel)",
   "language": "python",
   "name": "python3"
  },
  "language_info": {
   "codemirror_mode": {
    "name": "ipython",
    "version": 3
   },
   "file_extension": ".py",
   "mimetype": "text/x-python",
   "name": "python",
   "nbconvert_exporter": "python",
   "pygments_lexer": "ipython3",
   "version": "3.9.7"
  }
 },
 "nbformat": 4,
 "nbformat_minor": 5
}
