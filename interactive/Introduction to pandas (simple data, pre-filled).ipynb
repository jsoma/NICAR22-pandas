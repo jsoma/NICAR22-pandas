{
 "cells": [
  {
   "cell_type": "markdown",
   "id": "23781ea0",
   "metadata": {},
   "source": [
    "# Introduction to data analysis with pandas\n",
    "\n",
    "NICAR 2022, Jonathan Soma / js4571@columbia.edu / [@dangerscarf](https://twitter.com/dangerscarf)\n",
    "\n",
    "With a very simple, very incorrect, very boring dataset called `countries.csv`."
   ]
  },
  {
   "cell_type": "markdown",
   "id": "913a5730",
   "metadata": {},
   "source": [
    "## Download the file we're going to analyze"
   ]
  },
  {
   "cell_type": "code",
   "execution_count": null,
   "id": "588d9683",
   "metadata": {},
   "outputs": [],
   "source": [
    "import requests\n",
    "\n",
    "response = requests.get(\"https://raw.githubusercontent.com/jsoma/NICAR22-pandas/main/simple-data/countries.csv\")\n",
    "with open('countries.csv', 'w') as f:\n",
    "    f.write(response.text)"
   ]
  },
  {
   "cell_type": "markdown",
   "id": "b4c43886",
   "metadata": {},
   "source": [
    "## Read in our data\n",
    "\n",
    "We're going to be reading in a file called `countries.csv`."
   ]
  },
  {
   "cell_type": "code",
   "execution_count": null,
   "id": "5ebdb661",
   "metadata": {},
   "outputs": [],
   "source": [
    "import pandas as pd"
   ]
  },
  {
   "cell_type": "code",
   "execution_count": null,
   "id": "3b8e85c3",
   "metadata": {},
   "outputs": [],
   "source": [
    "df = pd.read_csv(\"countries.csv\")\n",
    "df.head()"
   ]
  },
  {
   "cell_type": "markdown",
   "id": "1e340fc6",
   "metadata": {},
   "source": [
    "## Sorting"
   ]
  },
  {
   "cell_type": "code",
   "execution_count": null,
   "id": "a47860ff",
   "metadata": {},
   "outputs": [],
   "source": [
    "df.sort_values(by='population')"
   ]
  },
  {
   "cell_type": "code",
   "execution_count": null,
   "id": "0da1fd65",
   "metadata": {},
   "outputs": [],
   "source": [
    "df.sort_values(by='population', ascending=False)"
   ]
  },
  {
   "cell_type": "markdown",
   "id": "af2b5dcc",
   "metadata": {},
   "source": [
    "## Summary statistics"
   ]
  },
  {
   "cell_type": "code",
   "execution_count": null,
   "id": "99f6d229",
   "metadata": {},
   "outputs": [],
   "source": [
    "# What's the median life expectancy?\n",
    "df.life_expectancy.median()"
   ]
  },
  {
   "cell_type": "code",
   "execution_count": null,
   "id": "e1bce3e5",
   "metadata": {},
   "outputs": [],
   "source": [
    "# What's the sum of every row's population?\n",
    "df.population.sum()"
   ]
  },
  {
   "cell_type": "code",
   "execution_count": null,
   "id": "7cce819e",
   "metadata": {},
   "outputs": [],
   "source": [
    "# What's the median population?\n",
    "df.population.median()"
   ]
  },
  {
   "cell_type": "code",
   "execution_count": null,
   "id": "9f0dadd8",
   "metadata": {},
   "outputs": [],
   "source": [
    "# Let's get a lot of different calculations\n",
    "df.life_expectancy.describe()"
   ]
  },
  {
   "cell_type": "code",
   "execution_count": null,
   "id": "3014a329",
   "metadata": {},
   "outputs": [],
   "source": [
    "# How many countries are on each continent?\n",
    "df.continent.value_counts()"
   ]
  },
  {
   "cell_type": "markdown",
   "id": "8a79578c",
   "metadata": {},
   "source": [
    "### Plot it!"
   ]
  },
  {
   "cell_type": "code",
   "execution_count": null,
   "id": "637537d9",
   "metadata": {},
   "outputs": [],
   "source": [
    "# How many countries are on each continent?\n",
    "df.continent.value_counts().plot(kind='barh')"
   ]
  },
  {
   "cell_type": "code",
   "execution_count": null,
   "id": "4528f04e",
   "metadata": {},
   "outputs": [],
   "source": [
    "# How many countries are on each continent?\n",
    "# Plot with biggest on top\n",
    "df.continent.value_counts().sort_values().plot(kind='barh')"
   ]
  },
  {
   "cell_type": "markdown",
   "id": "1e2cc65c",
   "metadata": {},
   "source": [
    "## Grouped statistics"
   ]
  },
  {
   "cell_type": "code",
   "execution_count": null,
   "id": "8e7dd721",
   "metadata": {},
   "outputs": [],
   "source": [
    "# Mean life expectancy by continent\n",
    "df.groupby('continent').life_expectancy.median()"
   ]
  },
  {
   "cell_type": "code",
   "execution_count": null,
   "id": "227803c7",
   "metadata": {},
   "outputs": [],
   "source": [
    "# Total population by continent\n",
    "df.groupby('continent').population.sum()"
   ]
  },
  {
   "cell_type": "markdown",
   "id": "fd9e13a6",
   "metadata": {},
   "source": [
    "## Calculating new columns"
   ]
  },
  {
   "cell_type": "code",
   "execution_count": null,
   "id": "301ea582",
   "metadata": {},
   "outputs": [],
   "source": [
    "# Calculate the per-capita GDP\n",
    "df['per_capita_gdp'] = df.gdp / df.population\n",
    "df.head()"
   ]
  },
  {
   "cell_type": "code",
   "execution_count": null,
   "id": "da65862e",
   "metadata": {},
   "outputs": [],
   "source": [
    "# Who has the highest per-capita GDP?\n",
    "df.sort_values(by='per_capita_gdp', ascending=False).head()"
   ]
  },
  {
   "cell_type": "markdown",
   "id": "ccd68da3",
   "metadata": {},
   "source": [
    "## Graphing"
   ]
  },
  {
   "cell_type": "code",
   "execution_count": null,
   "id": "9cd9b7a5",
   "metadata": {},
   "outputs": [],
   "source": [
    "df.sort_values(by='per_capita_gdp', ascending=False).head().plot(y='per_capita_gdp', x='country', kind='barh')"
   ]
  },
  {
   "cell_type": "markdown",
   "id": "00219b8c",
   "metadata": {},
   "source": [
    "## Filtering"
   ]
  },
  {
   "cell_type": "code",
   "execution_count": null,
   "id": "58d3bd57",
   "metadata": {},
   "outputs": [],
   "source": [
    "df[df.continent == 'Africa']"
   ]
  },
  {
   "cell_type": "code",
   "execution_count": null,
   "id": "71192b7e",
   "metadata": {},
   "outputs": [],
   "source": [
    "africa = df[df.continent == 'Africa']"
   ]
  },
  {
   "cell_type": "code",
   "execution_count": null,
   "id": "da400d68",
   "metadata": {},
   "outputs": [],
   "source": [
    "africa.sort_values(by='per_capita_gdp', ascending=False).head()"
   ]
  },
  {
   "cell_type": "code",
   "execution_count": null,
   "id": "ed251cf9",
   "metadata": {},
   "outputs": [],
   "source": [
    "africa.sort_values(by='per_capita_gdp').plot(\n",
    "    x='country',\n",
    "    y='per_capita_gdp',\n",
    "    kind='barh',\n",
    "    figsize=(8,12)\n",
    ")"
   ]
  },
  {
   "cell_type": "code",
   "execution_count": null,
   "id": "e34e5e7a",
   "metadata": {},
   "outputs": [],
   "source": []
  }
 ],
 "metadata": {
  "kernelspec": {
   "display_name": "Python 3 (ipykernel)",
   "language": "python",
   "name": "python3"
  },
  "language_info": {
   "codemirror_mode": {
    "name": "ipython",
    "version": 3
   },
   "file_extension": ".py",
   "mimetype": "text/x-python",
   "name": "python",
   "nbconvert_exporter": "python",
   "pygments_lexer": "ipython3",
   "version": "3.9.7"
  }
 },
 "nbformat": 4,
 "nbformat_minor": 5
}
