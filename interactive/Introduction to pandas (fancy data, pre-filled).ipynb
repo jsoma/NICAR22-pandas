{
 "cells": [
  {
   "cell_type": "markdown",
   "id": "08806fd9",
   "metadata": {},
   "source": [
    "# Introduction to data wrangling with pandas\n",
    "\n",
    "NICAR 2022, Jonathan Soma / js4571@columbia.edu / [@dangerscarf](https://twitter.com/dangerscarf)\n",
    "\n",
    "Featuring incredibly weird and wild data from the [National Electronic Injury Surveillance System (NEISS)](https://www.cpsc.gov/Research--Statistics/NEISS-Injury-Data). You can find documentation [here](https://github.com/jsoma/NICAR22-pandas/blob/main/fancy-data/2018-NEISS-CPSC-only-CodingManual.pdf)."
   ]
  },
  {
   "cell_type": "markdown",
   "id": "5291d01d",
   "metadata": {},
   "source": [
    "## Download the files we're going to need"
   ]
  },
  {
   "cell_type": "code",
   "execution_count": null,
   "id": "1e110631",
   "metadata": {},
   "outputs": [],
   "source": [
    "import requests\n",
    "\n",
    "response = requests.get(\"https://raw.githubusercontent.com/jsoma/NICAR22-pandas/main/fancy-data/neiss_cleaned.tsv\")\n",
    "with open('neiss_cleaned.tsv', 'w') as f:\n",
    "    f.write(response.text)\n",
    "    \n",
    "response = requests.get(\"https://raw.githubusercontent.com/jsoma/NICAR22-pandas/main/fancy-data/products.csv\")\n",
    "with open('products.tsv', 'w') as f:\n",
    "    f.write(response.text)"
   ]
  },
  {
   "cell_type": "markdown",
   "id": "7fa8af8f",
   "metadata": {},
   "source": [
    "## Reading in our data\n",
    "\n",
    "I'll give you this one for free!"
   ]
  },
  {
   "cell_type": "code",
   "execution_count": null,
   "id": "998253e0",
   "metadata": {},
   "outputs": [],
   "source": [
    "import pandas as pd\n",
    "import numpy as np\n",
    "\n",
    "pd.set_option(\"display.max_colwidth\", None)\n",
    "pd.set_option(\"display.max_columns\", None)"
   ]
  },
  {
   "cell_type": "code",
   "execution_count": null,
   "id": "2e1a3bec",
   "metadata": {},
   "outputs": [],
   "source": [
    "df = pd.read_csv(\"neiss_cleaned.tsv\", sep='\\t', encoding='latin-1')\n",
    "df.head()"
   ]
  },
  {
   "cell_type": "markdown",
   "id": "b781dee5",
   "metadata": {},
   "source": [
    "## Cleaning up our data\n",
    "\n",
    "### Age"
   ]
  },
  {
   "cell_type": "code",
   "execution_count": null,
   "id": "d1451c45",
   "metadata": {},
   "outputs": [],
   "source": [
    "df.Age.median()"
   ]
  },
  {
   "cell_type": "code",
   "execution_count": null,
   "id": "87dcfad9",
   "metadata": {},
   "outputs": [],
   "source": [
    "df.Age.hist()"
   ]
  },
  {
   "cell_type": "code",
   "execution_count": null,
   "id": "38b3322c",
   "metadata": {},
   "outputs": [],
   "source": [
    "df = df[df.Age < 200]\n",
    "df.Age.hist()"
   ]
  },
  {
   "cell_type": "markdown",
   "id": "3b0f5d44",
   "metadata": {},
   "source": [
    "## Gender"
   ]
  },
  {
   "cell_type": "code",
   "execution_count": null,
   "id": "cacb9237",
   "metadata": {},
   "outputs": [],
   "source": [
    "df.Sex.value_counts()"
   ]
  },
  {
   "cell_type": "code",
   "execution_count": null,
   "id": "f842be17",
   "metadata": {},
   "outputs": [],
   "source": [
    "df.Sex = df.Sex.replace({\n",
    "    1: 'Male',\n",
    "    2: 'Female',\n",
    "    0: np.nan\n",
    "})"
   ]
  },
  {
   "cell_type": "code",
   "execution_count": null,
   "id": "7e3a5058",
   "metadata": {},
   "outputs": [],
   "source": [
    "df.head()"
   ]
  },
  {
   "cell_type": "code",
   "execution_count": null,
   "id": "8de0e90f",
   "metadata": {},
   "outputs": [],
   "source": [
    "df.Sex.value_counts()"
   ]
  },
  {
   "cell_type": "code",
   "execution_count": null,
   "id": "58fd77cc",
   "metadata": {},
   "outputs": [],
   "source": [
    "df.Sex.value_counts(normalize=True)"
   ]
  },
  {
   "cell_type": "markdown",
   "id": "868c6d38",
   "metadata": {},
   "source": [
    "### Race"
   ]
  },
  {
   "cell_type": "code",
   "execution_count": null,
   "id": "d35101e3",
   "metadata": {},
   "outputs": [],
   "source": [
    "df.Race.value_counts()"
   ]
  },
  {
   "cell_type": "code",
   "execution_count": null,
   "id": "789ac269",
   "metadata": {},
   "outputs": [],
   "source": [
    "df.Race = df.Race.replace({\n",
    "    1: 'White',\n",
    "    2: 'Black/African American',\n",
    "    4: 'Asian',\n",
    "    5: 'American Indian/Alaskan Native',\n",
    "    6: 'Native Hawaiian/Pacific Islander',\n",
    "    3: 'Other',\n",
    "    0: np.nan\n",
    "})"
   ]
  },
  {
   "cell_type": "code",
   "execution_count": null,
   "id": "09fcf048",
   "metadata": {},
   "outputs": [],
   "source": [
    "df.Race.value_counts()"
   ]
  },
  {
   "cell_type": "markdown",
   "id": "21d3a3d3",
   "metadata": {},
   "source": [
    "## Searching through our data"
   ]
  },
  {
   "cell_type": "code",
   "execution_count": null,
   "id": "115082ae",
   "metadata": {},
   "outputs": [],
   "source": [
    "df.Other_Race.value_counts()"
   ]
  },
  {
   "cell_type": "code",
   "execution_count": null,
   "id": "2184e008",
   "metadata": {},
   "outputs": [],
   "source": [
    "df.Other_Race.value_counts().head(30)"
   ]
  },
  {
   "cell_type": "code",
   "execution_count": null,
   "id": "5b266130",
   "metadata": {},
   "outputs": [],
   "source": [
    "df[df.Other_Race.str.contains(\"HISP\", na=False)]"
   ]
  },
  {
   "cell_type": "code",
   "execution_count": null,
   "id": "a59af86b",
   "metadata": {},
   "outputs": [],
   "source": [
    "df[df.Other_Race.str.contains(\"HISP\", na=False)].Other_Race.value_counts()"
   ]
  },
  {
   "cell_type": "markdown",
   "id": "75ba62e2",
   "metadata": {},
   "source": [
    "## Wall punching!"
   ]
  },
  {
   "cell_type": "code",
   "execution_count": null,
   "id": "d05f46f8",
   "metadata": {},
   "outputs": [],
   "source": [
    "df[df.Narrative_1.str.contains(\"PUNCH\")]"
   ]
  },
  {
   "cell_type": "code",
   "execution_count": null,
   "id": "810e60ef",
   "metadata": {},
   "outputs": [],
   "source": [
    "punchers = df[df.Narrative_1.str.contains(\"PUNCH.*WALL\")]\n",
    "punchers"
   ]
  },
  {
   "cell_type": "code",
   "execution_count": null,
   "id": "d4dfc06e",
   "metadata": {},
   "outputs": [],
   "source": [
    "punchers.Age.hist()"
   ]
  },
  {
   "cell_type": "code",
   "execution_count": null,
   "id": "7fb33aab",
   "metadata": {},
   "outputs": [],
   "source": [
    "punchers.Sex.value_counts().plot(kind='barh')"
   ]
  },
  {
   "cell_type": "markdown",
   "id": "f416d1d5",
   "metadata": {},
   "source": [
    "## A supplemental dataset\n",
    "\n",
    "We're going to merge with another dataset."
   ]
  },
  {
   "cell_type": "code",
   "execution_count": null,
   "id": "777813da",
   "metadata": {},
   "outputs": [],
   "source": [
    "products = pd.read_csv(\"products.csv\")\n",
    "products.head(10)"
   ]
  },
  {
   "cell_type": "code",
   "execution_count": null,
   "id": "6b96abfd",
   "metadata": {},
   "outputs": [],
   "source": [
    "# 136 - drinking fountain\n",
    "# 1660 - umbrellas\n",
    "# 1934 - hot water\n",
    "\n",
    "df[df.Product_1 == 136]"
   ]
  },
  {
   "cell_type": "markdown",
   "id": "8991b1d9",
   "metadata": {},
   "source": [
    "## Merging our datasets"
   ]
  },
  {
   "cell_type": "code",
   "execution_count": null,
   "id": "82549afa",
   "metadata": {},
   "outputs": [],
   "source": [
    "merged = df.merge(products, left_on='Product_1', right_on='product_code')\n",
    "merged.head()"
   ]
  },
  {
   "cell_type": "code",
   "execution_count": null,
   "id": "d508d36e",
   "metadata": {},
   "outputs": [],
   "source": [
    "merged.product_name.value_counts()"
   ]
  },
  {
   "cell_type": "code",
   "execution_count": null,
   "id": "6d4e858e",
   "metadata": {},
   "outputs": [],
   "source": [
    "merged[merged.Narrative_1.str.contains(\"PUNCH\")].product_name.value_counts().head(20)"
   ]
  },
  {
   "cell_type": "code",
   "execution_count": null,
   "id": "e0071d01",
   "metadata": {},
   "outputs": [],
   "source": []
  }
 ],
 "metadata": {
  "kernelspec": {
   "display_name": "Python 3 (ipykernel)",
   "language": "python",
   "name": "python3"
  },
  "language_info": {
   "codemirror_mode": {
    "name": "ipython",
    "version": 3
   },
   "file_extension": ".py",
   "mimetype": "text/x-python",
   "name": "python",
   "nbconvert_exporter": "python",
   "pygments_lexer": "ipython3",
   "version": "3.9.7"
  }
 },
 "nbformat": 4,
 "nbformat_minor": 5
}
