{
 "cells": [
  {
   "cell_type": "markdown",
   "id": "23781ea0",
   "metadata": {},
   "source": [
    "# Introduction to data analysis with pandas\n",
    "\n",
    "NICAR 2022, Jonathan Soma / js4571@columbia.edu / [@dangerscarf](https://twitter.com/dangerscarf)\n",
    "\n",
    "With a very simple, very incorrect, very boring dataset called `countries.csv`."
   ]
  },
  {
   "cell_type": "markdown",
   "id": "4b2b57be",
   "metadata": {},
   "source": [
    "## Download the file we're going to analyze"
   ]
  },
  {
   "cell_type": "code",
   "execution_count": 1,
   "id": "5ebdb661",
   "metadata": {},
   "outputs": [],
   "source": [
    "import requests\n",
    "\n",
    "response = requests.get(\"https://raw.githubusercontent.com/jsoma/NICAR22-pandas/main/simple-data/countries.csv\")\n",
    "with open('countries.csv', 'w') as f:\n",
    "    f.write(response.text)"
   ]
  },
  {
   "cell_type": "markdown",
   "id": "f52e8d10",
   "metadata": {},
   "source": [
    "## Read in our data\n",
    "\n",
    "We're going to be reading in a file called `countries.csv`."
   ]
  },
  {
   "cell_type": "code",
   "execution_count": null,
   "id": "08781132",
   "metadata": {},
   "outputs": [],
   "source": []
  }
 ],
 "metadata": {
  "kernelspec": {
   "display_name": "Python 3 (ipykernel)",
   "language": "python",
   "name": "python3"
  },
  "language_info": {
   "codemirror_mode": {
    "name": "ipython",
    "version": 3
   },
   "file_extension": ".py",
   "mimetype": "text/x-python",
   "name": "python",
   "nbconvert_exporter": "python",
   "pygments_lexer": "ipython3",
   "version": "3.9.7"
  }
 },
 "nbformat": 4,
 "nbformat_minor": 5
}
