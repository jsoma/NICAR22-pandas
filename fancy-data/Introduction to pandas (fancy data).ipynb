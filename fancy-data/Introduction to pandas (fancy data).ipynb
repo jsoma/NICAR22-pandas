{
 "cells": [
  {
   "cell_type": "markdown",
   "id": "08806fd9",
   "metadata": {},
   "source": [
    "# Introduction to data wrangling with pandas\n",
    "\n",
    "NICAR 2022, Jonathan Soma / js4571@columbia.edu / [@dangerscarf](https://twitter.com/dangerscarf)\n",
    "\n",
    "Featuring incredibly weird and wild data from the [National Electronic Injury Surveillance System (NEISS)](https://www.cpsc.gov/Research--Statistics/NEISS-Injury-Data).\n",
    "\n",
    "## Reading in our data\n",
    "\n",
    "I'll give you this one for free!\n",
    "\n",
    "```python\n",
    "import pandas as pd\n",
    "\n",
    "df = pd.read_csv(\"neiss_cleaned.tsv\", sep='\\t', encoding='latin-1')\n",
    "df.head()\n",
    "```"
   ]
  },
  {
   "cell_type": "code",
   "execution_count": null,
   "id": "998253e0",
   "metadata": {},
   "outputs": [],
   "source": []
  },
  {
   "cell_type": "markdown",
   "id": "b781dee5",
   "metadata": {},
   "source": [
    "## Cleaning up our data"
   ]
  },
  {
   "cell_type": "code",
   "execution_count": null,
   "id": "d1451c45",
   "metadata": {},
   "outputs": [],
   "source": []
  },
  {
   "cell_type": "markdown",
   "id": "21d3a3d3",
   "metadata": {},
   "source": [
    "## Searching through our data"
   ]
  },
  {
   "cell_type": "code",
   "execution_count": null,
   "id": "115082ae",
   "metadata": {},
   "outputs": [],
   "source": []
  },
  {
   "cell_type": "markdown",
   "id": "f416d1d5",
   "metadata": {},
   "source": [
    "## Merging our datasets\n",
    "\n",
    "We're going to merge with another dataset."
   ]
  },
  {
   "cell_type": "code",
   "execution_count": null,
   "id": "777813da",
   "metadata": {},
   "outputs": [],
   "source": []
  }
 ],
 "metadata": {
  "kernelspec": {
   "display_name": "Python 3 (ipykernel)",
   "language": "python",
   "name": "python3"
  },
  "language_info": {
   "codemirror_mode": {
    "name": "ipython",
    "version": 3
   },
   "file_extension": ".py",
   "mimetype": "text/x-python",
   "name": "python",
   "nbconvert_exporter": "python",
   "pygments_lexer": "ipython3",
   "version": "3.9.7"
  }
 },
 "nbformat": 4,
 "nbformat_minor": 5
}
