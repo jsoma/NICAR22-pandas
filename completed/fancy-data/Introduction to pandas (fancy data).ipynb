{
 "cells": [
  {
   "cell_type": "markdown",
   "id": "08806fd9",
   "metadata": {},
   "source": [
    "# Introduction to data wrangling with pandas\n",
    "\n",
    "NICAR 2022, Jonathan Soma / js4571@columbia.edu / [@dangerscarf](https://twitter.com/dangerscarf)\n",
    "\n",
    "Featuring incredibly weird and wild data from the [National Electronic Injury Surveillance System (NEISS)](https://www.cpsc.gov/Research--Statistics/NEISS-Injury-Data).\n",
    "\n",
    "## Reading in our data\n",
    "\n",
    "I'll give you this one for free!\n",
    "\n",
    "```python\n",
    "import pandas as pd\n",
    "\n",
    "df = pd.read_csv(\"neiss_cleaned.tsv\", sep='\\t', encoding='latin-1')\n",
    "df.head()\n",
    "```"
   ]
  },
  {
   "cell_type": "code",
   "execution_count": 1,
   "id": "998253e0",
   "metadata": {},
   "outputs": [
    {
     "data": {
      "text/html": [
       "<div>\n",
       "<style scoped>\n",
       "    .dataframe tbody tr th:only-of-type {\n",
       "        vertical-align: middle;\n",
       "    }\n",
       "\n",
       "    .dataframe tbody tr th {\n",
       "        vertical-align: top;\n",
       "    }\n",
       "\n",
       "    .dataframe thead th {\n",
       "        text-align: right;\n",
       "    }\n",
       "</style>\n",
       "<table border=\"1\" class=\"dataframe\">\n",
       "  <thead>\n",
       "    <tr style=\"text-align: right;\">\n",
       "      <th></th>\n",
       "      <th>CPSC_Case_Number</th>\n",
       "      <th>Treatment_Date</th>\n",
       "      <th>Age</th>\n",
       "      <th>Sex</th>\n",
       "      <th>Race</th>\n",
       "      <th>Other_Race</th>\n",
       "      <th>Body_Part</th>\n",
       "      <th>Diagnosis</th>\n",
       "      <th>Other_Diagnosis</th>\n",
       "      <th>Disposition</th>\n",
       "      <th>Location</th>\n",
       "      <th>Fire_Involvement</th>\n",
       "      <th>Product_1</th>\n",
       "      <th>Product_2</th>\n",
       "      <th>Narrative_1</th>\n",
       "      <th>Narrative_2</th>\n",
       "      <th>Stratum</th>\n",
       "      <th>PSU</th>\n",
       "      <th>Weight</th>\n",
       "    </tr>\n",
       "  </thead>\n",
       "  <tbody>\n",
       "    <tr>\n",
       "      <th>0</th>\n",
       "      <td>170100733</td>\n",
       "      <td>01/01/2017</td>\n",
       "      <td>21</td>\n",
       "      <td>1</td>\n",
       "      <td>1.0</td>\n",
       "      <td>NaN</td>\n",
       "      <td>75.0</td>\n",
       "      <td>62.0</td>\n",
       "      <td>NaN</td>\n",
       "      <td>1.0</td>\n",
       "      <td>1.0</td>\n",
       "      <td>0.0</td>\n",
       "      <td>1207.0</td>\n",
       "      <td>0.0</td>\n",
       "      <td>21YOM WAS BOXING WITH FRIEND WHILE DRINKING AN...</td>\n",
       "      <td>. BAC= 93.6 DX HEAD INJURY AND ALCOHOL INTOXIC...</td>\n",
       "      <td>S</td>\n",
       "      <td>46.0</td>\n",
       "      <td>77.6641</td>\n",
       "    </tr>\n",
       "    <tr>\n",
       "      <th>1</th>\n",
       "      <td>170100734</td>\n",
       "      <td>01/01/2017</td>\n",
       "      <td>71</td>\n",
       "      <td>1</td>\n",
       "      <td>1.0</td>\n",
       "      <td>NaN</td>\n",
       "      <td>31.0</td>\n",
       "      <td>53.0</td>\n",
       "      <td>NaN</td>\n",
       "      <td>1.0</td>\n",
       "      <td>5.0</td>\n",
       "      <td>0.0</td>\n",
       "      <td>1807.0</td>\n",
       "      <td>0.0</td>\n",
       "      <td>71YOM FELL ON FLOOR IN BATHROOM. DX RIB CONTUSION</td>\n",
       "      <td>NaN</td>\n",
       "      <td>S</td>\n",
       "      <td>46.0</td>\n",
       "      <td>77.6641</td>\n",
       "    </tr>\n",
       "    <tr>\n",
       "      <th>2</th>\n",
       "      <td>170100735</td>\n",
       "      <td>01/01/2017</td>\n",
       "      <td>16</td>\n",
       "      <td>1</td>\n",
       "      <td>1.0</td>\n",
       "      <td>NaN</td>\n",
       "      <td>33.0</td>\n",
       "      <td>51.0</td>\n",
       "      <td>NaN</td>\n",
       "      <td>1.0</td>\n",
       "      <td>1.0</td>\n",
       "      <td>0.0</td>\n",
       "      <td>676.0</td>\n",
       "      <td>342.0</td>\n",
       "      <td>16YOM TRIPPED OVER A RUG AND FELL INTO A BURNI...</td>\n",
       "      <td>DX BURNS INVOLVING LESS THAN 10% OF BODY SURFA...</td>\n",
       "      <td>S</td>\n",
       "      <td>46.0</td>\n",
       "      <td>77.6641</td>\n",
       "    </tr>\n",
       "    <tr>\n",
       "      <th>3</th>\n",
       "      <td>170100737</td>\n",
       "      <td>01/01/2017</td>\n",
       "      <td>55</td>\n",
       "      <td>2</td>\n",
       "      <td>1.0</td>\n",
       "      <td>NaN</td>\n",
       "      <td>75.0</td>\n",
       "      <td>62.0</td>\n",
       "      <td>NaN</td>\n",
       "      <td>1.0</td>\n",
       "      <td>1.0</td>\n",
       "      <td>0.0</td>\n",
       "      <td>620.0</td>\n",
       "      <td>0.0</td>\n",
       "      <td>55YOF WAS STANDING ON A STEP STOOL AND LOST FO...</td>\n",
       "      <td>HEAD INJURY</td>\n",
       "      <td>S</td>\n",
       "      <td>46.0</td>\n",
       "      <td>77.6641</td>\n",
       "    </tr>\n",
       "    <tr>\n",
       "      <th>4</th>\n",
       "      <td>170100740</td>\n",
       "      <td>01/01/2017</td>\n",
       "      <td>86</td>\n",
       "      <td>2</td>\n",
       "      <td>1.0</td>\n",
       "      <td>NaN</td>\n",
       "      <td>79.0</td>\n",
       "      <td>58.0</td>\n",
       "      <td>NaN</td>\n",
       "      <td>1.0</td>\n",
       "      <td>1.0</td>\n",
       "      <td>0.0</td>\n",
       "      <td>1646.0</td>\n",
       "      <td>4056.0</td>\n",
       "      <td>86YOF GOT TANGLED IN COAT AND FELL BACKWARD ST...</td>\n",
       "      <td>H. DX HEMATOMA OF SOFT TISSUE, LEFT FLANK</td>\n",
       "      <td>S</td>\n",
       "      <td>46.0</td>\n",
       "      <td>77.6641</td>\n",
       "    </tr>\n",
       "  </tbody>\n",
       "</table>\n",
       "</div>"
      ],
      "text/plain": [
       "   CPSC_Case_Number Treatment_Date  Age  Sex  Race Other_Race  Body_Part  \\\n",
       "0         170100733     01/01/2017   21    1   1.0        NaN       75.0   \n",
       "1         170100734     01/01/2017   71    1   1.0        NaN       31.0   \n",
       "2         170100735     01/01/2017   16    1   1.0        NaN       33.0   \n",
       "3         170100737     01/01/2017   55    2   1.0        NaN       75.0   \n",
       "4         170100740     01/01/2017   86    2   1.0        NaN       79.0   \n",
       "\n",
       "   Diagnosis Other_Diagnosis  Disposition  Location  Fire_Involvement  \\\n",
       "0       62.0             NaN          1.0       1.0               0.0   \n",
       "1       53.0             NaN          1.0       5.0               0.0   \n",
       "2       51.0             NaN          1.0       1.0               0.0   \n",
       "3       62.0             NaN          1.0       1.0               0.0   \n",
       "4       58.0             NaN          1.0       1.0               0.0   \n",
       "\n",
       "   Product_1  Product_2                                        Narrative_1  \\\n",
       "0     1207.0        0.0  21YOM WAS BOXING WITH FRIEND WHILE DRINKING AN...   \n",
       "1     1807.0        0.0  71YOM FELL ON FLOOR IN BATHROOM. DX RIB CONTUSION   \n",
       "2      676.0      342.0  16YOM TRIPPED OVER A RUG AND FELL INTO A BURNI...   \n",
       "3      620.0        0.0  55YOF WAS STANDING ON A STEP STOOL AND LOST FO...   \n",
       "4     1646.0     4056.0  86YOF GOT TANGLED IN COAT AND FELL BACKWARD ST...   \n",
       "\n",
       "                                         Narrative_2 Stratum   PSU   Weight  \n",
       "0  . BAC= 93.6 DX HEAD INJURY AND ALCOHOL INTOXIC...       S  46.0  77.6641  \n",
       "1                                                NaN       S  46.0  77.6641  \n",
       "2  DX BURNS INVOLVING LESS THAN 10% OF BODY SURFA...       S  46.0  77.6641  \n",
       "3                                        HEAD INJURY       S  46.0  77.6641  \n",
       "4          H. DX HEMATOMA OF SOFT TISSUE, LEFT FLANK       S  46.0  77.6641  "
      ]
     },
     "execution_count": 1,
     "metadata": {},
     "output_type": "execute_result"
    }
   ],
   "source": [
    "import pandas as pd\n",
    "\n",
    "df = pd.read_csv(\"neiss_cleaned.tsv\", sep='\\t', encoding='latin-1')\n",
    "df.head()"
   ]
  },
  {
   "cell_type": "markdown",
   "id": "b781dee5",
   "metadata": {},
   "source": [
    "## Cleaning up our data\n",
    "\n",
    "### Age"
   ]
  },
  {
   "cell_type": "code",
   "execution_count": 2,
   "id": "d1451c45",
   "metadata": {},
   "outputs": [
    {
     "data": {
      "text/plain": [
       "29.0"
      ]
     },
     "execution_count": 2,
     "metadata": {},
     "output_type": "execute_result"
    }
   ],
   "source": [
    "df.Age.median()"
   ]
  },
  {
   "cell_type": "code",
   "execution_count": 3,
   "id": "87dcfad9",
   "metadata": {},
   "outputs": [
    {
     "data": {
      "text/plain": [
       "<AxesSubplot:>"
      ]
     },
     "execution_count": 3,
     "metadata": {},
     "output_type": "execute_result"
    },
    {
     "data": {
      "image/png": "[encoded data removed]",
      "text/plain": [
       "<Figure size 432x288 with 1 Axes>"
      ]
     },
     "metadata": {
      "needs_background": "light"
     },
     "output_type": "display_data"
    }
   ],
   "source": [
    "df.Age.hist()"
   ]
  },
  {
   "cell_type": "code",
   "execution_count": 4,
   "id": "38b3322c",
   "metadata": {},
   "outputs": [
    {
     "data": {
      "text/plain": [
       "<AxesSubplot:>"
      ]
     },
     "execution_count": 4,
     "metadata": {},
     "output_type": "execute_result"
    },
    {
     "data": {
      "image/png": "[encoded data removed]",
      "text/plain": [
       "<Figure size 432x288 with 1 Axes>"
      ]
     },
     "metadata": {
      "needs_background": "light"
     },
     "output_type": "display_data"
    }
   ],
   "source": [
    "df = df[df.Age < 200]\n",
    "df.Age.hist()"
   ]
  },
  {
   "cell_type": "markdown",
   "id": "868c6d38",
   "metadata": {},
   "source": [
    "### Race"
   ]
  },
  {
   "cell_type": "code",
   "execution_count": 5,
   "id": "d35101e3",
   "metadata": {},
   "outputs": [
    {
     "data": {
      "text/plain": [
       "1.0    151268\n",
       "0.0    136992\n",
       "2.0     51135\n",
       "3.0     18907\n",
       "4.0      4223\n",
       "5.0      1175\n",
       "6.0       388\n",
       "Name: Race, dtype: int64"
      ]
     },
     "execution_count": 5,
     "metadata": {},
     "output_type": "execute_result"
    }
   ],
   "source": [
    "df.Race.value_counts()"
   ]
  },
  {
   "cell_type": "code",
   "execution_count": null,
   "id": "789ac269",
   "metadata": {},
   "outputs": [],
   "source": []
  },
  {
   "cell_type": "code",
   "execution_count": null,
   "id": "09fcf048",
   "metadata": {},
   "outputs": [],
   "source": []
  },
  {
   "cell_type": "markdown",
   "id": "21d3a3d3",
   "metadata": {},
   "source": [
    "## Searching through our data"
   ]
  },
  {
   "cell_type": "code",
   "execution_count": null,
   "id": "115082ae",
   "metadata": {},
   "outputs": [],
   "source": []
  },
  {
   "cell_type": "markdown",
   "id": "f416d1d5",
   "metadata": {},
   "source": [
    "## Merging our datasets\n",
    "\n",
    "We're going to merge with another dataset."
   ]
  },
  {
   "cell_type": "code",
   "execution_count": null,
   "id": "777813da",
   "metadata": {},
   "outputs": [],
   "source": []
  }
 ],
 "metadata": {
  "kernelspec": {
   "display_name": "Python 3 (ipykernel)",
   "language": "python",
   "name": "python3"
  },
  "language_info": {
   "codemirror_mode": {
    "name": "ipython",
    "version": 3
   },
   "file_extension": ".py",
   "mimetype": "text/x-python",
   "name": "python",
   "nbconvert_exporter": "python",
   "pygments_lexer": "ipython3",
   "version": "3.9.7"
  }
 },
 "nbformat": 4,
 "nbformat_minor": 5
}
